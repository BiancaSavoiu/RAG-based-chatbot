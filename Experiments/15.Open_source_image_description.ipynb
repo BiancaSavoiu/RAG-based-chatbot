{
 "cells": [
  {
   "cell_type": "markdown",
   "metadata": {},
   "source": [
    " # Setup"
   ]
  },
  {
   "cell_type": "code",
   "execution_count": null,
   "metadata": {},
   "outputs": [],
   "source": [
    "%%capture\n",
    "%pip install \"unstructured[all_docs]\" unstructured_client watermark"
   ]
  },
  {
   "cell_type": "code",
   "execution_count": null,
   "metadata": {},
   "outputs": [],
   "source": [
    "# Warning control\n",
    "import warnings\n",
    "warnings.filterwarnings('ignore')"
   ]
  },
  {
   "cell_type": "code",
   "execution_count": null,
   "metadata": {},
   "outputs": [],
   "source": [
    "from IPython.display import JSON\n",
    "\n",
    "import json\n",
    "\n",
    "from unstructured_client import UnstructuredClient\n",
    "from unstructured_client.models import shared\n",
    "from unstructured_client.models.errors import SDKError\n",
    "\n",
    "from unstructured.partition.pdf import partition_pdf\n",
    "from unstructured.staging.base import dict_to_elements, elements_to_json\n",
    "\n",
    "import pprint"
   ]
  },
  {
   "cell_type": "code",
   "execution_count": null,
   "metadata": {},
   "outputs": [],
   "source": [
    "%load_ext watermark"
   ]
  },
  {
   "cell_type": "code",
   "execution_count": null,
   "metadata": {},
   "outputs": [],
   "source": [
    "import unstructured"
   ]
  },
  {
   "cell_type": "code",
   "execution_count": null,
   "metadata": {},
   "outputs": [],
   "source": [
    "%watermark --iversions"
   ]
  },
  {
   "cell_type": "code",
   "execution_count": null,
   "metadata": {},
   "outputs": [],
   "source": [
    "import os\n",
    "path = os.getcwd()\n",
    "print(\"Current directory:\", path)"
   ]
  },
  {
   "cell_type": "code",
   "execution_count": null,
   "metadata": {},
   "outputs": [],
   "source": [
    "# prints parent directory\n",
    "parent_directory = os.path.abspath(os.path.join(path, os.pardir))\n",
    "filepath = parent_directory + \"/Doc_Panthera/Gestionale/VEN_Contratti_Vendita_Ordini_Aperti.pdf\"\n",
    "print(\"Filepath:\", filepath)"
   ]
  },
  {
   "cell_type": "code",
   "execution_count": null,
   "metadata": {},
   "outputs": [],
   "source": [
    "import unstructured_client\n",
    "\n",
    "client = unstructured_client.UnstructuredClient(\n",
    "    api_key_auth=os.getenv(\"UNSTRUCTURED_API_KEY\"),\n",
    "    server_url=\"https://api.unstructuredapp.io\",\n",
    ")"
   ]
  },
  {
   "cell_type": "markdown",
   "metadata": {},
   "source": [
    "# Exploration of unstructure elements"
   ]
  },
  {
   "cell_type": "code",
   "execution_count": null,
   "metadata": {},
   "outputs": [],
   "source": [
    "from unstructured.partition.pdf import partition_pdf\n",
    "\n",
    "#partition_pdf?? - to learn about the possible parameters\n",
    "# Now, elements is a list of all elements present in the pages of the parsed pdf document\n",
    "# Set a strategy to extract Images\n",
    "elements = partition_pdf(filepath, strategy=\"hi_res\", languages=['ita'])"
   ]
  },
  {
   "cell_type": "code",
   "execution_count": null,
   "metadata": {},
   "outputs": [],
   "source": [
    "element_dict = [el.to_dict() for el in elements]\n",
    "output = json.dumps(element_dict, indent=2)\n",
    "print(output)"
   ]
  },
  {
   "cell_type": "code",
   "execution_count": null,
   "metadata": {},
   "outputs": [],
   "source": [
    "element_dict = [el.to_dict() for el in elements]\n",
    "\n",
    "unique_types = set()\n",
    "\n",
    "for item in element_dict:\n",
    "    unique_types.add(item['type'])\n",
    "\n",
    "print(unique_types)"
   ]
  },
  {
   "cell_type": "code",
   "execution_count": null,
   "metadata": {},
   "outputs": [],
   "source": [
    "images = [el for el in elements if el.category == \"Image\"]\n",
    "\n",
    "print(images[40].text)\n",
    "print(images[40].metadata.text_as_html)"
   ]
  },
  {
   "cell_type": "code",
   "execution_count": null,
   "metadata": {},
   "outputs": [],
   "source": [
    "len(images)"
   ]
  },
  {
   "cell_type": "markdown",
   "metadata": {},
   "source": [
    "# Extract not only information from the images but the images"
   ]
  },
  {
   "cell_type": "code",
   "execution_count": null,
   "metadata": {},
   "outputs": [],
   "source": [
    "output_dir = parent_directory + \"/Experiments/Extracted_Images\"\n",
    "raw_pdf_elements = partition_pdf(filename=filepath,\n",
    "                                 # Unstructured first finds embedded image blocks\n",
    "                                 # Only applicable if `strategy=hi_res`\n",
    "                                 extract_images_in_pdf=True,\n",
    "                                 strategy = \"hi_res\",\n",
    "                                 infer_table_structure=True,\n",
    "                                 # Only applicable if `strategy=hi_res`\n",
    "                                 extract_image_block_output_dir = output_dir)"
   ]
  },
  {
   "cell_type": "markdown",
   "metadata": {},
   "source": [
    "# Show extracted images"
   ]
  },
  {
   "cell_type": "code",
   "execution_count": null,
   "metadata": {},
   "outputs": [],
   "source": [
    "from IPython.display import Image, display\n",
    "import glob\n",
    "\n",
    "# Define the path to the folder containing the images\n",
    "folder_path = output_dir + \"/*.jpg\"  # Update the file type as needed\n",
    "\n",
    "# Use glob to search for JPG files in the specified folder\n",
    "image_files = glob.glob(folder_path)\n",
    "\n",
    "# Iterate through the list of image files and display each image inline\n",
    "#for image_file in image_files:\n",
    "#    display(Image(filename=image_file))"
   ]
  },
  {
   "cell_type": "markdown",
   "metadata": {},
   "source": [
    "# Image extraction and placeholder"
   ]
  },
  {
   "cell_type": "code",
   "execution_count": null,
   "metadata": {},
   "outputs": [],
   "source": [
    "from unstructured.partition.pdf import partition_pdf\n",
    "import json\n",
    "\n",
    "# Parse the PDF\n",
    "elements = partition_pdf(filepath, strategy=\"hi_res\", languages=['ita'])\n",
    "\n",
    "# Prepare the output structure and image metadata storage\n",
    "processed_elements = []\n",
    "image_metadata = {}\n",
    "\n",
    "for el in elements:\n",
    "    el_dict = el.to_dict()  # Convert element to a dictionary\n",
    "    el_type = el_dict.get(\"type\", None)  # Get the type of the element\n",
    "\n",
    "    if el_type == \"Image\":\n",
    "        # Create a placeholder for the image\n",
    "        placeholder = f\"[IMAGE: {el_dict['element_id']}]\"\n",
    "        processed_elements.append(placeholder)\n",
    "        \n",
    "        # Save the image metadata for future processing\n",
    "        image_metadata[el_dict['element_id']] = el_dict\n",
    "    else:\n",
    "        # For other types, keep the text as is\n",
    "        processed_elements.append(el_dict.get(\"text\", \"\"))\n",
    "\n",
    "# Combine the text and placeholders into a single output\n",
    "output_text = \"\\n\".join(processed_elements)\n",
    "\n",
    "# Save the image metadata for later use\n",
    "with open(\"image_metadata.json\", \"w\", encoding=\"utf-8\") as f:\n",
    "    json.dump(image_metadata, f, indent=2)\n",
    "\n",
    "# Print the text output with placeholders\n",
    "print(output_text)\n",
    "\n",
    "# Optionally save the text output\n",
    "with open(\"processed_output.txt\", \"w\", encoding=\"utf-8\") as f:\n",
    "    f.write(output_text)"
   ]
  },
  {
   "cell_type": "markdown",
   "metadata": {},
   "source": [
    "# Multi-modal llava image explanation"
   ]
  },
  {
   "cell_type": "code",
   "execution_count": null,
   "metadata": {},
   "outputs": [],
   "source": [
    "%%capture\n",
    "%pip install langchain langchain_core langchain_community"
   ]
  },
  {
   "cell_type": "code",
   "execution_count": null,
   "metadata": {},
   "outputs": [],
   "source": [
    "from langchain_community.llms import Ollama\n",
    "\n",
    "llm = Ollama(model = \"llava:13b\")"
   ]
  },
  {
   "cell_type": "code",
   "execution_count": null,
   "metadata": {},
   "outputs": [],
   "source": [
    "import base64\n",
    "from io import BytesIO\n",
    "\n",
    "from IPython.display import HTML, display\n",
    "from PIL import Image\n",
    "\n",
    "\n",
    "def convert_to_base64(pil_image):\n",
    "    \"\"\"\n",
    "    Convert PIL images to Base64 encoded strings\n",
    "\n",
    "    :param pil_image: PIL image\n",
    "    :return: Re-sized Base64 string\n",
    "    \"\"\"\n",
    "\n",
    "    buffered = BytesIO()\n",
    "    pil_image.save(buffered, format=\"JPEG\")  # You can change the format if needed\n",
    "    img_str = base64.b64encode(buffered.getvalue()).decode(\"utf-8\")\n",
    "    return img_str\n",
    "\n",
    "\n",
    "def plt_img_base64(img_base64):\n",
    "    \"\"\"\n",
    "    Display base64 encoded string as image\n",
    "\n",
    "    :param img_base64:  Base64 string\n",
    "    \"\"\"\n",
    "    # Create an HTML img tag with the base64 string as the source\n",
    "    image_html = f'<img src=\"data:image/jpeg;base64,{img_base64}\" />'\n",
    "    # Display the image by rendering the HTML\n",
    "    display(HTML(image_html))\n",
    "\n",
    "\n",
    "file_path = output_dir + \"/figure-31-42.jpg\"\n",
    "pil_image = Image.open(file_path)\n",
    "image_b64 = convert_to_base64(pil_image)\n",
    "plt_img_base64(image_b64)"
   ]
  },
  {
   "cell_type": "code",
   "execution_count": null,
   "metadata": {},
   "outputs": [],
   "source": [
    "prompt = \"\"\"Analyze the provided image, which shows a section of the user interface of a management software. \n",
    "Your task is to:\n",
    "\n",
    "1. List each field name exactly as it appears in the image, without translating or altering the names.\n",
    "2. Provide a neutral description of the functionality and available options for each field or element, based solely on what can be observed from the interface. \n",
    "Avoid inventing or speculating about additional functionalities.\n",
    "3. Clearly describe the user interactions possible with the options, buttons, or fields. For example, whether dropdown menus are present, checkboxes can be selected, or buttons move elements between lists.\n",
    "4. Maintain the original language (Italian) for field names and options where applicable.\n",
    "\n",
    "Ensure that the explanation is accurate, clear, and concise, focusing on usability and interaction details visible in the image\"\"\"\n",
    "\n",
    "llm_with_image_context = llm.bind(images=[image_b64])\n",
    "text = llm_with_image_context.invoke(prompt)"
   ]
  },
  {
   "cell_type": "code",
   "execution_count": null,
   "metadata": {},
   "outputs": [],
   "source": [
    "pprint.pprint(text)"
   ]
  },
  {
   "cell_type": "code",
   "execution_count": null,
   "metadata": {},
   "outputs": [],
   "source": [
    "from transformers import pipeline\n",
    "\n",
    "# Initialize the translation pipeline\n",
    "translator = pipeline(\"translation\", model=\"facebook/mbart-large-50-many-to-many-mmt\")\n",
    "\n",
    "# Translate the text (e.g., from English to French)\n",
    "translated_text = translator(text, src_lang=\"en_XX\", tgt_lang=\"it_IT\", max_length = 512)\n",
    "\n",
    "# Print the translated output\n",
    "print(\"Translated Text:\", translated_text[0]['translation_text'])"
   ]
  },
  {
   "cell_type": "code",
   "execution_count": null,
   "metadata": {},
   "outputs": [],
   "source": [
    "pprint.pprint(translated_text[0]['translation_text'])"
   ]
  }
 ],
 "metadata": {
  "kernelspec": {
   "display_name": "tesi_bianca",
   "language": "python",
   "name": "python3"
  },
  "language_info": {
   "codemirror_mode": {
    "name": "ipython",
    "version": 3
   },
   "file_extension": ".py",
   "mimetype": "text/x-python",
   "name": "python",
   "nbconvert_exporter": "python",
   "pygments_lexer": "ipython3",
   "version": "3.12.6"
  }
 },
 "nbformat": 4,
 "nbformat_minor": 2
}
