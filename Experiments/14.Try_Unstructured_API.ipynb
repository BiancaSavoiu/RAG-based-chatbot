{
 "cells": [
  {
   "cell_type": "code",
   "execution_count": null,
   "metadata": {},
   "outputs": [],
   "source": [
    "import pprint\n",
    "import json"
   ]
  },
  {
   "cell_type": "code",
   "execution_count": null,
   "metadata": {},
   "outputs": [],
   "source": [
    "import os\n",
    "# prints parent directory\n",
    "parent_directory = os.path.abspath(os.path.join(os.getcwd(), os.pardir))\n",
    "print(\"Parent directory:\", parent_directory)"
   ]
  },
  {
   "cell_type": "code",
   "execution_count": null,
   "metadata": {},
   "outputs": [],
   "source": [
    "# Before calling the API, replace filename and ensure sdk is installed: \"pip install unstructured-client\"\n",
    "# See https://docs.unstructured.io/api-reference/api-services/sdk for more details\n",
    "\n",
    "import unstructured_client\n",
    "from unstructured_client.models import operations, shared\n",
    "from collections import Counter\n",
    "\n",
    "client = unstructured_client.UnstructuredClient(\n",
    "    api_key_auth= os.getenv(\"UNSTRUCTURED_API_KEY\"),\n",
    "    server_url=\"https://api.unstructuredapp.io\",\n",
    ")\n",
    "\n",
    "filename = parent_directory + \"/Doc_Panthera/Gestionale/VEN_Contratti_Vendita_Ordini_Aperti.pdf\"\n",
    "output_file = os.getcwd() + \"/Unstructured_Output/Unstruct_VEN_Contratti_Vendita_Ordini_Aperti.pdf\"\n",
    "with open(filename, \"rb\") as f:\n",
    "    data = f.read()\n",
    "\n",
    "req = operations.PartitionRequest(\n",
    "    partition_parameters=shared.PartitionParameters(\n",
    "        files=shared.Files(\n",
    "            content=data,\n",
    "            file_name=filename,\n",
    "        ),\n",
    "        # --- Other partition parameters ---\n",
    "        # Note: Defining 'strategy', 'chunking_strategy', and 'output_format'\n",
    "        # parameters as strings is accepted, but will not pass strict type checking. It is\n",
    "        # advised to use the defined enum classes as shown below.\n",
    "        strategy=shared.Strategy.HI_RES,  \n",
    "        languages=['ita'],\n",
    "    ),\n",
    ")\n",
    "\n",
    "try:\n",
    "    res = client.general.partition(request=req)\n",
    "    element_dicts = [element for element in res.elements]\n",
    "\n",
    "    # Write the processed data to a local file.\n",
    "    json_elements = json.dumps(element_dicts, indent=2)\n",
    "\n",
    "    with open(output_file, \"w\") as file:\n",
    "        file.write(json_elements)\n",
    "except Exception as e:\n",
    "    print(e)\n"
   ]
  },
  {
   "cell_type": "code",
   "execution_count": null,
   "metadata": {},
   "outputs": [],
   "source": [
    "pprint.pprint(len(res.elements))"
   ]
  },
  {
   "cell_type": "code",
   "execution_count": null,
   "metadata": {},
   "outputs": [],
   "source": [
    "display(Counter(element['type'] for element in element_dicts))\n",
    "print(\"\")"
   ]
  },
  {
   "cell_type": "code",
   "execution_count": null,
   "metadata": {},
   "outputs": [],
   "source": [
    "pprint.pprint(\"\\n\\n\".join([el['text'] for el in element_dicts if el['type'] == \"Table\"]))"
   ]
  }
 ],
 "metadata": {
  "kernelspec": {
   "display_name": "tesi_bianca",
   "language": "python",
   "name": "python3"
  },
  "language_info": {
   "codemirror_mode": {
    "name": "ipython",
    "version": 3
   },
   "file_extension": ".py",
   "mimetype": "text/x-python",
   "name": "python",
   "nbconvert_exporter": "python",
   "pygments_lexer": "ipython3",
   "version": "3.12.6"
  }
 },
 "nbformat": 4,
 "nbformat_minor": 2
}
