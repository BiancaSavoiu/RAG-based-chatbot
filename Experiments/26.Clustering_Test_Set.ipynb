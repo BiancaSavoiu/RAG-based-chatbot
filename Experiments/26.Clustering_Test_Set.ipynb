{
 "cells": [
  {
   "cell_type": "code",
   "execution_count": null,
   "metadata": {},
   "outputs": [],
   "source": [
    "import os\n",
    "path = os.getcwd()\n",
    "path"
   ]
  },
  {
   "cell_type": "code",
   "execution_count": null,
   "metadata": {},
   "outputs": [],
   "source": [
    "import pandas as pd\n",
    "csv_input_path = path + \"/augmented_dataset_final_outputs_with_clusters.csv\"\n",
    "# Read the CSV file into a DataFrame\n",
    "df = pd.read_csv(csv_input_path, encoding='utf-8')\n",
    "\n",
    "# Display the first few rows of the DataFrame to check the contents\n",
    "display(df)"
   ]
  },
  {
   "cell_type": "code",
   "execution_count": null,
   "metadata": {},
   "outputs": [],
   "source": [
    "from openai import OpenAI\n",
    "\n",
    "os.environ['OPENAI_API_KEY'] = os.getenv('OPENAI_API_KEY')\n",
    "client = OpenAI()"
   ]
  },
  {
   "cell_type": "code",
   "execution_count": null,
   "metadata": {},
   "outputs": [],
   "source": [
    "# Reading a review which belongs to each group.\n",
    "rev_per_cluster = 4\n",
    "max_tokens_per_review = 1024  # Limit characters per review\n",
    "n_clusters = 5\n",
    "\n",
    "for i in range(n_clusters):\n",
    "    print(f\"Cluster {i} Theme:\", end=\" \")\n",
    "\n",
    "    # Sample reviews and truncate each review if necessary\n",
    "    reviews = df['Text'][df.cluster == i].replace(\"Title: \", \"\").replace(\"\\n\\nContent: \", \":  \")\n",
    "    \n",
    "    # Sample reviews while ensuring the maximum character count is respected\n",
    "    sampled_reviews = reviews.sample(rev_per_cluster, random_state=42).values\n",
    "    truncated_reviews = [review[:max_tokens_per_review] for review in sampled_reviews]\n",
    "\n",
    "    reviews_text = \"\\n\".join(truncated_reviews)\n",
    "\n",
    "    messages = [\n",
    "        {\"role\": \"user\", \"content\": f'Cosa hanno in comune i seguenti documenti?\\n\\nDocumenti Panthera:\\n\"\"\"\\n{reviews_text}\\n\"\"\"\\n\\nTema:'}\n",
    "    ]\n",
    "\n",
    "    # Check the token count before making the request\n",
    "    num_tokens = sum(len(review.split()) for review in truncated_reviews) + len(messages[0]['content'].split())\n",
    "    \n",
    "    if num_tokens > 8192:\n",
    "        print(f\"Warning: Message exceeds maximum token length: {num_tokens} tokens. Reduce review count or length.\")\n",
    "        continue\n",
    "\n",
    "    response = client.chat.completions.create(\n",
    "        model=\"gpt-4o\",\n",
    "        messages=messages,\n",
    "        temperature=0,\n",
    "        max_tokens=512,\n",
    "        top_p=1,\n",
    "        frequency_penalty=0,\n",
    "        presence_penalty=0\n",
    "    )\n",
    "    \n",
    "    print(response.choices[0].message.content.replace(\"\\n\", \"\"))\n",
    "\n",
    "    sample_cluster_rows = df[df.cluster == i].sample(rev_per_cluster, random_state=42)\n",
    "\n",
    "    for j in range(rev_per_cluster):\n",
    "        print(sample_cluster_rows.FileName.values[j])\n",
    "\n",
    "    print(\"-\" * 100)"
   ]
  },
  {
   "cell_type": "code",
   "execution_count": null,
   "metadata": {},
   "outputs": [],
   "source": [
    "for cluster in df['cluster'].unique():\n",
    "    print(f\"Cluster {cluster}:\")\n",
    "    file_names = df[df['cluster'] == cluster]['FileName'].tolist()\n",
    "    for file_name in file_names:\n",
    "        print(f\"  - {file_name}\")\n",
    "    print(\"\\n\")"
   ]
  }
 ],
 "metadata": {
  "kernelspec": {
   "display_name": "tesi_bianca",
   "language": "python",
   "name": "python3"
  },
  "language_info": {
   "codemirror_mode": {
    "name": "ipython",
    "version": 3
   },
   "file_extension": ".py",
   "mimetype": "text/x-python",
   "name": "python",
   "nbconvert_exporter": "python",
   "pygments_lexer": "ipython3",
   "version": "3.12.6"
  }
 },
 "nbformat": 4,
 "nbformat_minor": 2
}
