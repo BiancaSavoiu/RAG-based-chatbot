{
 "cells": [
  {
   "cell_type": "markdown",
   "metadata": {
    "id": "ojIVLX4a777k"
   },
   "source": [
    "# Import libraries\n"
   ]
  },
  {
   "cell_type": "code",
   "execution_count": null,
   "metadata": {
    "colab": {
     "base_uri": "https://localhost:8080/"
    },
    "executionInfo": {
     "elapsed": 12457,
     "status": "ok",
     "timestamp": 1726492671806,
     "user": {
      "displayName": "Bianca",
      "userId": "00062262328884665138"
     },
     "user_tz": -120
    },
    "id": "3dkLC8pM7riA",
    "outputId": "b6a11a0e-d413-4db1-b755-5b13a1303371"
   },
   "outputs": [],
   "source": [
    "!pip install -U langchain-community\n",
    "!pip install pypdf\n",
    "!pip install rapidocr-onnxruntime # If we want to also extract images from the pdf, but the process is much slower"
   ]
  },
  {
   "cell_type": "code",
   "execution_count": null,
   "metadata": {
    "colab": {
     "base_uri": "https://localhost:8080/"
    },
    "executionInfo": {
     "elapsed": 4560,
     "status": "ok",
     "timestamp": 1726493565015,
     "user": {
      "displayName": "Bianca",
      "userId": "00062262328884665138"
     },
     "user_tz": -120
    },
    "id": "Oc41vCRkCN_7",
    "outputId": "8628231b-0ca2-4f76-ab6e-9a1eedf8dd71"
   },
   "outputs": [],
   "source": [
    "# Try using also pdfplumber\n",
    "!pip install pdfplumber"
   ]
  },
  {
   "cell_type": "code",
   "execution_count": null,
   "metadata": {
    "ExecuteTime": {
     "end_time": "2024-09-17T08:36:01.393072Z",
     "start_time": "2024-09-17T08:35:48.823737Z"
    }
   },
   "outputs": [],
   "source": [
    "!pip install tabula-py"
   ]
  },
  {
   "cell_type": "markdown",
   "metadata": {
    "id": "e3YWyMXo7-cj"
   },
   "source": [
    "# Load PDF data with langchain\n"
   ]
  },
  {
   "cell_type": "code",
   "execution_count": null,
   "metadata": {
    "executionInfo": {
     "elapsed": 366,
     "status": "ok",
     "timestamp": 1726496006302,
     "user": {
      "displayName": "Bianca",
      "userId": "00062262328884665138"
     },
     "user_tz": -120
    },
    "id": "Jfpi8oJb72xB"
   },
   "outputs": [],
   "source": [
    "from langchain_community.document_loaders import PyPDFLoader\n",
    "\n",
    "loader = PyPDFLoader(\n",
    "    file_path = \"../Data/prova_immagini.pdf\",\n",
    "    # password = \"my-pasword\",\n",
    "    extract_images = True,\n",
    "    # headers = None\n",
    "    # extraction_mode = \"plain\",\n",
    "    # extraction_kwargs = None,\n",
    ")"
   ]
  },
  {
   "cell_type": "code",
   "execution_count": null,
   "metadata": {
    "executionInfo": {
     "elapsed": 46896,
     "status": "ok",
     "timestamp": 1726496062512,
     "user": {
      "displayName": "Bianca",
      "userId": "00062262328884665138"
     },
     "user_tz": -120
    },
    "id": "7JNzanSO80pJ"
   },
   "outputs": [],
   "source": [
    "docs = []\n",
    "pages = loader.load_and_split()\n",
    "\n",
    "# Extract only page_content from the pages\n",
    "for page in pages:\n",
    "    docs.append(page.page_content)\n",
    "    # docs.append(page.metadata) - In case we decide we need the metadata"
   ]
  },
  {
   "cell_type": "code",
   "execution_count": null,
   "metadata": {
    "colab": {
     "base_uri": "https://localhost:8080/"
    },
    "executionInfo": {
     "elapsed": 756,
     "status": "ok",
     "timestamp": 1726496688913,
     "user": {
      "displayName": "Bianca",
      "userId": "00062262328884665138"
     },
     "user_tz": -120
    },
    "id": "f-3w7ZrZIN5F",
    "outputId": "1dfd751c-e2d2-427a-a3f9-24049604ff15"
   },
   "outputs": [],
   "source": [
    "pages[2]"
   ]
  },
  {
   "cell_type": "code",
   "execution_count": null,
   "metadata": {
    "colab": {
     "base_uri": "https://localhost:8080/"
    },
    "executionInfo": {
     "elapsed": 275,
     "status": "ok",
     "timestamp": 1726495215127,
     "user": {
      "displayName": "Bianca",
      "userId": "00062262328884665138"
     },
     "user_tz": -120
    },
    "id": "5VrEI5TPIYZp",
    "outputId": "90052dbb-dc46-476e-c944-5ad260297d3e"
   },
   "outputs": [],
   "source": [
    "pages[1]"
   ]
  },
  {
   "cell_type": "code",
   "execution_count": null,
   "metadata": {
    "colab": {
     "base_uri": "https://localhost:8080/"
    },
    "executionInfo": {
     "elapsed": 287,
     "status": "ok",
     "timestamp": 1726493463102,
     "user": {
      "displayName": "Bianca",
      "userId": "00062262328884665138"
     },
     "user_tz": -120
    },
    "id": "FXP03ZtiAhfL",
    "outputId": "357741f5-9549-4246-87da-231c2df08861"
   },
   "outputs": [],
   "source": [
    "len(docs)"
   ]
  },
  {
   "cell_type": "code",
   "execution_count": null,
   "metadata": {
    "colab": {
     "base_uri": "https://localhost:8080/",
     "height": 261
    },
    "executionInfo": {
     "elapsed": 286,
     "status": "ok",
     "timestamp": 1726493464937,
     "user": {
      "displayName": "Bianca",
      "userId": "00062262328884665138"
     },
     "user_tz": -120
    },
    "id": "rZkIJVBxBtpE",
    "outputId": "4c607483-9364-4e97-890f-28e0ef2a75d3"
   },
   "outputs": [],
   "source": [
    "docs[11]"
   ]
  },
  {
   "cell_type": "markdown",
   "metadata": {
    "id": "oT0K6MoRCJLJ"
   },
   "source": [
    "# Load data with pdfplumber"
   ]
  },
  {
   "cell_type": "code",
   "execution_count": null,
   "metadata": {
    "ExecuteTime": {
     "end_time": "2024-09-17T08:44:58.077674Z",
     "start_time": "2024-09-17T08:44:57.473255Z"
    },
    "colab": {
     "base_uri": "https://localhost:8080/"
    },
    "executionInfo": {
     "elapsed": 952,
     "status": "ok",
     "timestamp": 1726493668763,
     "user": {
      "displayName": "Bianca",
      "userId": "00062262328884665138"
     },
     "user_tz": -120
    },
    "id": "c9E42VgQCUdm",
    "outputId": "164c3b9b-52e1-4538-81d1-7427a81ca951"
   },
   "outputs": [],
   "source": [
    "import pdfplumber\n",
    "filename = \"../Data/testdoc.pdf\"\n",
    "pdf = pdfplumber.open(filename)\n",
    "text = pdf.pages[6].extract_text(x_tolerance=1)\n",
    "print(text)"
   ]
  },
  {
   "cell_type": "code",
   "execution_count": null,
   "metadata": {
    "colab": {
     "base_uri": "https://localhost:8080/"
    },
    "executionInfo": {
     "elapsed": 17849,
     "status": "ok",
     "timestamp": 1726493779202,
     "user": {
      "displayName": "Bianca",
      "userId": "00062262328884665138"
     },
     "user_tz": -120
    },
    "id": "lD85WwwJC1Sq",
    "outputId": "b5433a37-15a8-4ce1-ff84-d21ab81fe52b"
   },
   "outputs": [],
   "source": [
    "# Extract the text from all pages\n",
    "texts = [page.extract_text(x_tolerance=1) for page in pdf.pages]\n",
    "\n",
    "# Can concatanate all the text together in a single string\n",
    "text = \"  \\n\\n\".join(texts)\n",
    "print(text)"
   ]
  },
  {
   "cell_type": "markdown",
   "metadata": {
    "id": "BvzAAxSgOvW0"
   },
   "source": [
    "# Extract images"
   ]
  },
  {
   "cell_type": "code",
   "execution_count": null,
   "metadata": {
    "executionInfo": {
     "elapsed": 352,
     "status": "ok",
     "timestamp": 1726496916432,
     "user": {
      "displayName": "Bianca",
      "userId": "00062262328884665138"
     },
     "user_tz": -120
    },
    "id": "qyKYR4nUOxLt"
   },
   "outputs": [],
   "source": [
    "from pypdf import PdfReader\n",
    "\n",
    "reader = PdfReader(\"../Data/prova_immagini.pdf\")\n",
    "page = reader.pages[0]\n",
    "\n",
    "for count, image_file_object in enumerate(page.images):\n",
    "  with open(str(count) + image_file_object.name, \"wb\") as fp:\n",
    "    fp.write(image_file_object.data)"
   ]
  },
  {
   "cell_type": "code",
   "execution_count": null,
   "metadata": {
    "colab": {
     "base_uri": "https://localhost:8080/"
    },
    "executionInfo": {
     "elapsed": 289,
     "status": "ok",
     "timestamp": 1726499131936,
     "user": {
      "displayName": "Bianca",
      "userId": "00062262328884665138"
     },
     "user_tz": -120
    },
    "id": "RuHckrvMPHSr",
    "outputId": "fa1815e2-d8ab-47c1-f877-eb5cea45c7fd"
   },
   "outputs": [],
   "source": [
    "for page in reader.pages:\n",
    "  for count, image_file_object in enumerate(page.images):\n",
    "    print(image_file_object)\n",
    "    with open(str(count) + str(page.page_number) + image_file_object.name , \"wb\") as fp:\n",
    "\n",
    "      fp.write(image_file_object.data)"
   ]
  },
  {
   "cell_type": "markdown",
   "metadata": {},
   "source": [
    "# Extracting tables from pdf"
   ]
  },
  {
   "cell_type": "code",
   "execution_count": null,
   "metadata": {
    "ExecuteTime": {
     "end_time": "2024-09-17T08:46:29.821333Z",
     "start_time": "2024-09-17T08:46:29.673928Z"
    }
   },
   "outputs": [],
   "source": [
    "filename = \"../Data/prova_table.pdf\"\n",
    "\n",
    "with pdfplumber.open(filename) as pdf:\n",
    "    page = pdf.pages[14]\n",
    "    table = page.extract_table()\n",
    "    print(table)"
   ]
  },
  {
   "cell_type": "code",
   "execution_count": null,
   "metadata": {
    "ExecuteTime": {
     "end_time": "2024-09-17T08:48:16.666515Z",
     "start_time": "2024-09-17T08:48:13.304537Z"
    }
   },
   "outputs": [],
   "source": [
    "with pdfplumber.open(filename) as pdf:\n",
    "    for page in pdf.pages:\n",
    "        table = page.extract_table()\n",
    "        print(table)"
   ]
  }
 ],
 "metadata": {
  "colab": {
   "authorship_tag": "ABX9TyPWeWrjOunufADkWvOIzNd+",
   "provenance": []
  },
  "kernelspec": {
   "display_name": "Python 3 (ipykernel)",
   "language": "python",
   "name": "python3"
  },
  "language_info": {
   "name": "python"
  }
 },
 "nbformat": 4,
 "nbformat_minor": 0
}
